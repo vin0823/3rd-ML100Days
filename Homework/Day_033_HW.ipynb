{
 "cells": [
  {
   "cell_type": "markdown",
   "metadata": {},
   "source": [
    "## 練習時間"
   ]
  },
  {
   "cell_type": "markdown",
   "metadata": {},
   "source": [
    "請觀看李宏毅教授以神奇寶貝進化 CP 值預測的範例，解說何謂機器學習與過擬合。並回答以下問題"
   ]
  },
  {
   "cell_type": "markdown",
   "metadata": {},
   "source": [
    "[youtube](https://www.youtube.com/watch?v=fegAeph9UaA)"
   ]
  },
  {
   "cell_type": "markdown",
   "metadata": {},
   "source": [
    "### 1. 模型的泛化能力 (generalization) 是指什麼？ \n",
    "### 2. 分類問題與回歸問題分別可用的目標函數有哪些？"
   ]
  },
  {
   "cell_type": "markdown",
   "metadata": {},
   "source": [
    "Ans1. 當有新Data時，模型預測的error情況是多大\n",
    "\n",
    "Ans2. \n",
    "分類問題 \n",
    "Linear classifiers\n",
    "Fisher's linear discriminant\n",
    "Logistic regression\n",
    "Naive Bayes classifier\n",
    "Perceptron\n",
    "Support vector machines\n",
    "Least squares support vector machines\n",
    "Quadratic classifiers\n",
    "Kernel estimation\n",
    "k-nearest neighbor\n",
    "Boosting (meta-algorithm)\n",
    "Decision trees\n",
    "Random forests\n",
    "Neural networks\n",
    "Learning vector quantization\n",
    "\n",
    "回歸問題\n",
    "Linear Regression\n",
    "Logistic Regression\n",
    "Polynomial Regression\n",
    "Stepwise Regression\n",
    "Ridge Regression\n",
    "Lasso Regression\n",
    "ElasticNet Regression"
   ]
  }
 ],
 "metadata": {
  "kernelspec": {
   "display_name": "Python 3",
   "language": "python",
   "name": "python3"
  },
  "language_info": {
   "codemirror_mode": {
    "name": "ipython",
    "version": 3
   },
   "file_extension": ".py",
   "mimetype": "text/x-python",
   "name": "python",
   "nbconvert_exporter": "python",
   "pygments_lexer": "ipython3",
   "version": "3.7.1"
  }
 },
 "nbformat": 4,
 "nbformat_minor": 2
}
